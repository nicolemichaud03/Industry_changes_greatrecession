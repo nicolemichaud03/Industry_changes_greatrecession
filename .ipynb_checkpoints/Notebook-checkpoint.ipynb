{
 "cells": [
  {
   "cell_type": "markdown",
   "metadata": {},
   "source": [
    "BLS Industry Productivity "
   ]
  },
  {
   "cell_type": "code",
   "execution_count": 1,
   "metadata": {},
   "outputs": [],
   "source": [
    "#Importing Packages\n",
    "import pandas as pd\n",
    "import numpy as np\n",
    "import matplotlib.pyplot as plt\n",
    "import seaborn as sns\n",
    "\n",
    "%matplotlib inline"
   ]
  },
  {
   "cell_type": "code",
   "execution_count": 2,
   "metadata": {},
   "outputs": [
    {
     "data": {
      "text/html": [
       "<div>\n",
       "<style scoped>\n",
       "    .dataframe tbody tr th:only-of-type {\n",
       "        vertical-align: middle;\n",
       "    }\n",
       "\n",
       "    .dataframe tbody tr th {\n",
       "        vertical-align: top;\n",
       "    }\n",
       "\n",
       "    .dataframe thead th {\n",
       "        text-align: right;\n",
       "    }\n",
       "</style>\n",
       "<table border=\"1\" class=\"dataframe\">\n",
       "  <thead>\n",
       "    <tr style=\"text-align: right;\">\n",
       "      <th></th>\n",
       "      <th>Sector</th>\n",
       "      <th>NAICS</th>\n",
       "      <th>Industry</th>\n",
       "      <th>Digit</th>\n",
       "      <th>Basis</th>\n",
       "      <th>Measure</th>\n",
       "      <th>Units</th>\n",
       "      <th>1987</th>\n",
       "      <th>1988</th>\n",
       "      <th>1989</th>\n",
       "      <th>...</th>\n",
       "      <th>2012</th>\n",
       "      <th>2013</th>\n",
       "      <th>2014</th>\n",
       "      <th>2015</th>\n",
       "      <th>2016</th>\n",
       "      <th>2017</th>\n",
       "      <th>2018</th>\n",
       "      <th>2019</th>\n",
       "      <th>2020</th>\n",
       "      <th>2021</th>\n",
       "    </tr>\n",
       "  </thead>\n",
       "  <tbody>\n",
       "    <tr>\n",
       "      <th>0</th>\n",
       "      <td>Mining</td>\n",
       "      <td>21</td>\n",
       "      <td>Mining</td>\n",
       "      <td>2-Digit</td>\n",
       "      <td>All workers</td>\n",
       "      <td>Labor productivity</td>\n",
       "      <td>% Change from previous year</td>\n",
       "      <td>N.A.</td>\n",
       "      <td>2.3</td>\n",
       "      <td>-0.6</td>\n",
       "      <td>...</td>\n",
       "      <td>0.4</td>\n",
       "      <td>8.9</td>\n",
       "      <td>5.3</td>\n",
       "      <td>17.6</td>\n",
       "      <td>18.6</td>\n",
       "      <td>3.5</td>\n",
       "      <td>3</td>\n",
       "      <td>6.2</td>\n",
       "      <td>18.2</td>\n",
       "      <td>1</td>\n",
       "    </tr>\n",
       "    <tr>\n",
       "      <th>1</th>\n",
       "      <td>Mining</td>\n",
       "      <td>21</td>\n",
       "      <td>Mining</td>\n",
       "      <td>2-Digit</td>\n",
       "      <td>All workers</td>\n",
       "      <td>Real sectoral output</td>\n",
       "      <td>% Change from previous year</td>\n",
       "      <td>N.A.</td>\n",
       "      <td>2.1</td>\n",
       "      <td>-0.6</td>\n",
       "      <td>...</td>\n",
       "      <td>8.3</td>\n",
       "      <td>8.5</td>\n",
       "      <td>12.5</td>\n",
       "      <td>3.8</td>\n",
       "      <td>-4.9</td>\n",
       "      <td>4</td>\n",
       "      <td>12</td>\n",
       "      <td>8.5</td>\n",
       "      <td>-7.2</td>\n",
       "      <td>0.6</td>\n",
       "    </tr>\n",
       "    <tr>\n",
       "      <th>2</th>\n",
       "      <td>Mining</td>\n",
       "      <td>21</td>\n",
       "      <td>Mining</td>\n",
       "      <td>2-Digit</td>\n",
       "      <td>All workers</td>\n",
       "      <td>Hours worked</td>\n",
       "      <td>% Change from previous year</td>\n",
       "      <td>N.A.</td>\n",
       "      <td>-0.2</td>\n",
       "      <td>0</td>\n",
       "      <td>...</td>\n",
       "      <td>7.9</td>\n",
       "      <td>-0.3</td>\n",
       "      <td>6.9</td>\n",
       "      <td>-11.7</td>\n",
       "      <td>-19.9</td>\n",
       "      <td>0.5</td>\n",
       "      <td>8.8</td>\n",
       "      <td>2.2</td>\n",
       "      <td>-21.5</td>\n",
       "      <td>-0.4</td>\n",
       "    </tr>\n",
       "    <tr>\n",
       "      <th>3</th>\n",
       "      <td>Mining</td>\n",
       "      <td>21</td>\n",
       "      <td>Mining</td>\n",
       "      <td>2-Digit</td>\n",
       "      <td>All workers</td>\n",
       "      <td>Output per worker</td>\n",
       "      <td>% Change from previous year</td>\n",
       "      <td>N.A.</td>\n",
       "      <td>2.6</td>\n",
       "      <td>2.4</td>\n",
       "      <td>...</td>\n",
       "      <td>0.9</td>\n",
       "      <td>7.1</td>\n",
       "      <td>8.2</td>\n",
       "      <td>14.2</td>\n",
       "      <td>17.1</td>\n",
       "      <td>3.5</td>\n",
       "      <td>3.6</td>\n",
       "      <td>8.2</td>\n",
       "      <td>13.9</td>\n",
       "      <td>6.6</td>\n",
       "    </tr>\n",
       "    <tr>\n",
       "      <th>4</th>\n",
       "      <td>Mining</td>\n",
       "      <td>21</td>\n",
       "      <td>Mining</td>\n",
       "      <td>2-Digit</td>\n",
       "      <td>All workers</td>\n",
       "      <td>Unit labor costs</td>\n",
       "      <td>% Change from previous year</td>\n",
       "      <td>N.A.</td>\n",
       "      <td>4.5</td>\n",
       "      <td>1.2</td>\n",
       "      <td>...</td>\n",
       "      <td>1.9</td>\n",
       "      <td>-5.3</td>\n",
       "      <td>-3.6</td>\n",
       "      <td>-13.5</td>\n",
       "      <td>-13.3</td>\n",
       "      <td>-3.8</td>\n",
       "      <td>-2.2</td>\n",
       "      <td>-3.6</td>\n",
       "      <td>-11.7</td>\n",
       "      <td>-10.6</td>\n",
       "    </tr>\n",
       "  </tbody>\n",
       "</table>\n",
       "<p>5 rows × 42 columns</p>\n",
       "</div>"
      ],
      "text/plain": [
       "   Sector NAICS Industry    Digit        Basis               Measure  \\\n",
       "0  Mining    21   Mining  2-Digit  All workers    Labor productivity   \n",
       "1  Mining    21   Mining  2-Digit  All workers  Real sectoral output   \n",
       "2  Mining    21   Mining  2-Digit  All workers          Hours worked   \n",
       "3  Mining    21   Mining  2-Digit  All workers     Output per worker   \n",
       "4  Mining    21   Mining  2-Digit  All workers      Unit labor costs   \n",
       "\n",
       "                         Units  1987  1988  1989  ... 2012  2013  2014   2015  \\\n",
       "0  % Change from previous year  N.A.   2.3  -0.6  ...  0.4   8.9   5.3   17.6   \n",
       "1  % Change from previous year  N.A.   2.1  -0.6  ...  8.3   8.5  12.5    3.8   \n",
       "2  % Change from previous year  N.A.  -0.2     0  ...  7.9  -0.3   6.9  -11.7   \n",
       "3  % Change from previous year  N.A.   2.6   2.4  ...  0.9   7.1   8.2   14.2   \n",
       "4  % Change from previous year  N.A.   4.5   1.2  ...  1.9  -5.3  -3.6  -13.5   \n",
       "\n",
       "    2016  2017  2018  2019   2020   2021  \n",
       "0   18.6   3.5     3   6.2   18.2      1  \n",
       "1   -4.9     4    12   8.5   -7.2    0.6  \n",
       "2  -19.9   0.5   8.8   2.2  -21.5   -0.4  \n",
       "3   17.1   3.5   3.6   8.2   13.9    6.6  \n",
       "4  -13.3  -3.8  -2.2  -3.6  -11.7  -10.6  \n",
       "\n",
       "[5 rows x 42 columns]"
      ]
     },
     "execution_count": 2,
     "metadata": {},
     "output_type": "execute_result"
    }
   ],
   "source": [
    "labor_productivity = pd.read_csv(\"Data/labor-productivity.csv\")\n",
    "labor_productivity.head()"
   ]
  },
  {
   "cell_type": "code",
   "execution_count": 3,
   "metadata": {},
   "outputs": [
    {
     "name": "stdout",
     "output_type": "stream",
     "text": [
      "<class 'pandas.core.frame.DataFrame'>\n",
      "RangeIndex: 15663 entries, 0 to 15662\n",
      "Data columns (total 42 columns):\n",
      " #   Column    Non-Null Count  Dtype \n",
      "---  ------    --------------  ----- \n",
      " 0   Sector    15663 non-null  object\n",
      " 1   NAICS     15663 non-null  object\n",
      " 2   Industry  15663 non-null  object\n",
      " 3   Digit     15663 non-null  object\n",
      " 4   Basis     15663 non-null  object\n",
      " 5   Measure   15663 non-null  object\n",
      " 6   Units     15663 non-null  object\n",
      " 7   1987      15663 non-null  object\n",
      " 8   1988      15663 non-null  object\n",
      " 9   1989      15663 non-null  object\n",
      " 10  1990      15663 non-null  object\n",
      " 11  1991      15663 non-null  object\n",
      " 12  1992      15663 non-null  object\n",
      " 13  1993      15663 non-null  object\n",
      " 14  1994      15663 non-null  object\n",
      " 15  1995      15663 non-null  object\n",
      " 16  1996      15663 non-null  object\n",
      " 17  1997      15663 non-null  object\n",
      " 18  1998      15663 non-null  object\n",
      " 19  1999      15663 non-null  object\n",
      " 20  2000      15663 non-null  object\n",
      " 21  2001      15663 non-null  object\n",
      " 22  2002      15663 non-null  object\n",
      " 23  2003      15663 non-null  object\n",
      " 24  2004      15663 non-null  object\n",
      " 25  2005      15663 non-null  object\n",
      " 26  2006      15663 non-null  object\n",
      " 27  2007      15663 non-null  object\n",
      " 28  2008      15663 non-null  object\n",
      " 29  2009      15663 non-null  object\n",
      " 30  2010      15663 non-null  object\n",
      " 31  2011      15663 non-null  object\n",
      " 32  2012      15663 non-null  object\n",
      " 33  2013      15663 non-null  object\n",
      " 34  2014      15663 non-null  object\n",
      " 35  2015      15663 non-null  object\n",
      " 36  2016      15663 non-null  object\n",
      " 37  2017      15663 non-null  object\n",
      " 38  2018      15663 non-null  object\n",
      " 39  2019      15663 non-null  object\n",
      " 40  2020      15663 non-null  object\n",
      " 41  2021      15663 non-null  object\n",
      "dtypes: object(42)\n",
      "memory usage: 5.0+ MB\n"
     ]
    }
   ],
   "source": [
    "labor_productivity.info()\n"
   ]
  },
  {
   "cell_type": "code",
   "execution_count": 26,
   "metadata": {},
   "outputs": [
    {
     "data": {
      "text/html": [
       "<div>\n",
       "<style scoped>\n",
       "    .dataframe tbody tr th:only-of-type {\n",
       "        vertical-align: middle;\n",
       "    }\n",
       "\n",
       "    .dataframe tbody tr th {\n",
       "        vertical-align: top;\n",
       "    }\n",
       "\n",
       "    .dataframe thead th {\n",
       "        text-align: right;\n",
       "    }\n",
       "</style>\n",
       "<table border=\"1\" class=\"dataframe\">\n",
       "  <thead>\n",
       "    <tr style=\"text-align: right;\">\n",
       "      <th></th>\n",
       "      <th>Sector</th>\n",
       "      <th>Industry</th>\n",
       "      <th>Measure</th>\n",
       "      <th>Units</th>\n",
       "      <th>2007</th>\n",
       "      <th>2008</th>\n",
       "      <th>2009</th>\n",
       "    </tr>\n",
       "  </thead>\n",
       "  <tbody>\n",
       "    <tr>\n",
       "      <th>0</th>\n",
       "      <td>Mining</td>\n",
       "      <td>Mining</td>\n",
       "      <td>Labor productivity</td>\n",
       "      <td>% Change from previous year</td>\n",
       "      <td>-7.9</td>\n",
       "      <td>-2.2</td>\n",
       "      <td>13.7</td>\n",
       "    </tr>\n",
       "    <tr>\n",
       "      <th>1</th>\n",
       "      <td>Mining</td>\n",
       "      <td>Mining</td>\n",
       "      <td>Real sectoral output</td>\n",
       "      <td>% Change from previous year</td>\n",
       "      <td>0.6</td>\n",
       "      <td>0.9</td>\n",
       "      <td>-0.2</td>\n",
       "    </tr>\n",
       "    <tr>\n",
       "      <th>2</th>\n",
       "      <td>Mining</td>\n",
       "      <td>Mining</td>\n",
       "      <td>Hours worked</td>\n",
       "      <td>% Change from previous year</td>\n",
       "      <td>9.1</td>\n",
       "      <td>3.1</td>\n",
       "      <td>-12.3</td>\n",
       "    </tr>\n",
       "    <tr>\n",
       "      <th>3</th>\n",
       "      <td>Mining</td>\n",
       "      <td>Mining</td>\n",
       "      <td>Output per worker</td>\n",
       "      <td>% Change from previous year</td>\n",
       "      <td>-7</td>\n",
       "      <td>-4.9</td>\n",
       "      <td>9.5</td>\n",
       "    </tr>\n",
       "    <tr>\n",
       "      <th>4</th>\n",
       "      <td>Mining</td>\n",
       "      <td>Mining</td>\n",
       "      <td>Unit labor costs</td>\n",
       "      <td>% Change from previous year</td>\n",
       "      <td>13.6</td>\n",
       "      <td>11.7</td>\n",
       "      <td>-11.3</td>\n",
       "    </tr>\n",
       "  </tbody>\n",
       "</table>\n",
       "</div>"
      ],
      "text/plain": [
       "   Sector Industry               Measure                        Units  2007  \\\n",
       "0  Mining   Mining    Labor productivity  % Change from previous year  -7.9   \n",
       "1  Mining   Mining  Real sectoral output  % Change from previous year   0.6   \n",
       "2  Mining   Mining          Hours worked  % Change from previous year   9.1   \n",
       "3  Mining   Mining     Output per worker  % Change from previous year    -7   \n",
       "4  Mining   Mining      Unit labor costs  % Change from previous year  13.6   \n",
       "\n",
       "   2008   2009  \n",
       "0  -2.2   13.7  \n",
       "1   0.9   -0.2  \n",
       "2   3.1  -12.3  \n",
       "3  -4.9    9.5  \n",
       "4  11.7  -11.3  "
      ]
     },
     "execution_count": 26,
     "metadata": {},
     "output_type": "execute_result"
    }
   ],
   "source": [
    "labor_changes_df = labor_productivity[['Sector', 'Industry', 'Measure', 'Units', '2007', '2008', '2009']]\n",
    "labor_changes_df.head()"
   ]
  },
  {
   "cell_type": "code",
   "execution_count": 37,
   "metadata": {},
   "outputs": [
    {
     "data": {
      "text/html": [
       "<div>\n",
       "<style scoped>\n",
       "    .dataframe tbody tr th:only-of-type {\n",
       "        vertical-align: middle;\n",
       "    }\n",
       "\n",
       "    .dataframe tbody tr th {\n",
       "        vertical-align: top;\n",
       "    }\n",
       "\n",
       "    .dataframe thead th {\n",
       "        text-align: right;\n",
       "    }\n",
       "</style>\n",
       "<table border=\"1\" class=\"dataframe\">\n",
       "  <thead>\n",
       "    <tr style=\"text-align: right;\">\n",
       "      <th></th>\n",
       "      <th>Sector</th>\n",
       "      <th>Industry</th>\n",
       "      <th>Measure</th>\n",
       "      <th>Units</th>\n",
       "      <th>2007</th>\n",
       "      <th>2008</th>\n",
       "      <th>2009</th>\n",
       "    </tr>\n",
       "  </thead>\n",
       "  <tbody>\n",
       "    <tr>\n",
       "      <th>9</th>\n",
       "      <td>Mining</td>\n",
       "      <td>Mining</td>\n",
       "      <td>Employment</td>\n",
       "      <td>% Change from previous year</td>\n",
       "      <td>8.1</td>\n",
       "      <td>6</td>\n",
       "      <td>-8.9</td>\n",
       "    </tr>\n",
       "    <tr>\n",
       "      <th>22</th>\n",
       "      <td>Mining</td>\n",
       "      <td>Mining</td>\n",
       "      <td>Employment</td>\n",
       "      <td>Thousands of jobs</td>\n",
       "      <td>684.8</td>\n",
       "      <td>726</td>\n",
       "      <td>661.5</td>\n",
       "    </tr>\n",
       "    <tr>\n",
       "      <th>32</th>\n",
       "      <td>Mining</td>\n",
       "      <td>Oil and gas extraction</td>\n",
       "      <td>Employment</td>\n",
       "      <td>% Change from previous year</td>\n",
       "      <td>7.7</td>\n",
       "      <td>8.8</td>\n",
       "      <td>0.4</td>\n",
       "    </tr>\n",
       "    <tr>\n",
       "      <th>45</th>\n",
       "      <td>Mining</td>\n",
       "      <td>Oil and gas extraction</td>\n",
       "      <td>Employment</td>\n",
       "      <td>Thousands of jobs</td>\n",
       "      <td>148.1</td>\n",
       "      <td>161.2</td>\n",
       "      <td>161.8</td>\n",
       "    </tr>\n",
       "    <tr>\n",
       "      <th>55</th>\n",
       "      <td>Mining</td>\n",
       "      <td>Mining, except oil and gas</td>\n",
       "      <td>Employment</td>\n",
       "      <td>% Change from previous year</td>\n",
       "      <td>3</td>\n",
       "      <td>0.7</td>\n",
       "      <td>-7.8</td>\n",
       "    </tr>\n",
       "    <tr>\n",
       "      <th>...</th>\n",
       "      <td>...</td>\n",
       "      <td>...</td>\n",
       "      <td>...</td>\n",
       "      <td>...</td>\n",
       "      <td>...</td>\n",
       "      <td>...</td>\n",
       "      <td>...</td>\n",
       "    </tr>\n",
       "    <tr>\n",
       "      <th>15616</th>\n",
       "      <td>Other Services (except Public Administration)</td>\n",
       "      <td>Funeral homes and funeral services</td>\n",
       "      <td>Employment</td>\n",
       "      <td>Thousands of jobs</td>\n",
       "      <td>105.4</td>\n",
       "      <td>108.3</td>\n",
       "      <td>103.4</td>\n",
       "    </tr>\n",
       "    <tr>\n",
       "      <th>15626</th>\n",
       "      <td>Other Services (except Public Administration)</td>\n",
       "      <td>Coin-operated laundries and drycleaners</td>\n",
       "      <td>Employment</td>\n",
       "      <td>% Change from previous year</td>\n",
       "      <td>8.9</td>\n",
       "      <td>-4.7</td>\n",
       "      <td>-8.2</td>\n",
       "    </tr>\n",
       "    <tr>\n",
       "      <th>15639</th>\n",
       "      <td>Other Services (except Public Administration)</td>\n",
       "      <td>Coin-operated laundries and drycleaners</td>\n",
       "      <td>Employment</td>\n",
       "      <td>Thousands of jobs</td>\n",
       "      <td>51.3</td>\n",
       "      <td>48.9</td>\n",
       "      <td>44.9</td>\n",
       "    </tr>\n",
       "    <tr>\n",
       "      <th>15649</th>\n",
       "      <td>Other Services (except Public Administration)</td>\n",
       "      <td>Drycleaning and laundry services (except coin-...</td>\n",
       "      <td>Employment</td>\n",
       "      <td>% Change from previous year</td>\n",
       "      <td>0.1</td>\n",
       "      <td>-3.4</td>\n",
       "      <td>-9.2</td>\n",
       "    </tr>\n",
       "    <tr>\n",
       "      <th>15662</th>\n",
       "      <td>Other Services (except Public Administration)</td>\n",
       "      <td>Drycleaning and laundry services (except coin-...</td>\n",
       "      <td>Employment</td>\n",
       "      <td>Thousands of jobs</td>\n",
       "      <td>190.2</td>\n",
       "      <td>183.7</td>\n",
       "      <td>166.8</td>\n",
       "    </tr>\n",
       "  </tbody>\n",
       "</table>\n",
       "<p>954 rows × 7 columns</p>\n",
       "</div>"
      ],
      "text/plain": [
       "                                              Sector  \\\n",
       "9                                             Mining   \n",
       "22                                            Mining   \n",
       "32                                            Mining   \n",
       "45                                            Mining   \n",
       "55                                            Mining   \n",
       "...                                              ...   \n",
       "15616  Other Services (except Public Administration)   \n",
       "15626  Other Services (except Public Administration)   \n",
       "15639  Other Services (except Public Administration)   \n",
       "15649  Other Services (except Public Administration)   \n",
       "15662  Other Services (except Public Administration)   \n",
       "\n",
       "                                                Industry     Measure  \\\n",
       "9                                                 Mining  Employment   \n",
       "22                                                Mining  Employment   \n",
       "32                                Oil and gas extraction  Employment   \n",
       "45                                Oil and gas extraction  Employment   \n",
       "55                            Mining, except oil and gas  Employment   \n",
       "...                                                  ...         ...   \n",
       "15616                 Funeral homes and funeral services  Employment   \n",
       "15626            Coin-operated laundries and drycleaners  Employment   \n",
       "15639            Coin-operated laundries and drycleaners  Employment   \n",
       "15649  Drycleaning and laundry services (except coin-...  Employment   \n",
       "15662  Drycleaning and laundry services (except coin-...  Employment   \n",
       "\n",
       "                             Units   2007   2008   2009  \n",
       "9      % Change from previous year    8.1      6   -8.9  \n",
       "22               Thousands of jobs  684.8    726  661.5  \n",
       "32     % Change from previous year    7.7    8.8    0.4  \n",
       "45               Thousands of jobs  148.1  161.2  161.8  \n",
       "55     % Change from previous year      3    0.7   -7.8  \n",
       "...                            ...    ...    ...    ...  \n",
       "15616            Thousands of jobs  105.4  108.3  103.4  \n",
       "15626  % Change from previous year    8.9   -4.7   -8.2  \n",
       "15639            Thousands of jobs   51.3   48.9   44.9  \n",
       "15649  % Change from previous year    0.1   -3.4   -9.2  \n",
       "15662            Thousands of jobs  190.2  183.7  166.8  \n",
       "\n",
       "[954 rows x 7 columns]"
      ]
     },
     "execution_count": 37,
     "metadata": {},
     "output_type": "execute_result"
    }
   ],
   "source": [
    "labor_changes = labor_changes_df[(labor_changes_df['Measure'].isin(['Employment']))&(labor_changes_df['Units'].isin(['% Change from previous year', 'Thousands of jobs']))]\n",
    "labor_changes"
   ]
  },
  {
   "cell_type": "code",
   "execution_count": 38,
   "metadata": {},
   "outputs": [
    {
     "data": {
      "text/plain": [
       "Sector      0\n",
       "Industry    0\n",
       "Measure     0\n",
       "Units       0\n",
       "2007        0\n",
       "2008        0\n",
       "2009        0\n",
       "dtype: int64"
      ]
     },
     "execution_count": 38,
     "metadata": {},
     "output_type": "execute_result"
    }
   ],
   "source": [
    "labor_changes.isna().sum()"
   ]
  },
  {
   "cell_type": "code",
   "execution_count": 39,
   "metadata": {},
   "outputs": [
    {
     "name": "stdout",
     "output_type": "stream",
     "text": [
      "Sector      object\n",
      "Industry    object\n",
      "Measure     object\n",
      "Units       object\n",
      "2008         int64\n",
      "dtype: object\n"
     ]
    },
    {
     "name": "stderr",
     "output_type": "stream",
     "text": [
      "<ipython-input-39-24969448f874>:2: SettingWithCopyWarning: \n",
      "A value is trying to be set on a copy of a slice from a DataFrame.\n",
      "Try using .loc[row_indexer,col_indexer] = value instead\n",
      "\n",
      "See the caveats in the documentation: https://pandas.pydata.org/pandas-docs/stable/user_guide/indexing.html#returning-a-view-versus-a-copy\n",
      "  labor_changes_2008['2008'] = labor_changes_2008['2008'].astype(float)\n",
      "<ipython-input-39-24969448f874>:3: SettingWithCopyWarning: \n",
      "A value is trying to be set on a copy of a slice from a DataFrame.\n",
      "Try using .loc[row_indexer,col_indexer] = value instead\n",
      "\n",
      "See the caveats in the documentation: https://pandas.pydata.org/pandas-docs/stable/user_guide/indexing.html#returning-a-view-versus-a-copy\n",
      "  labor_changes_2008['2008'] = labor_changes_2008['2008'].astype(int)\n"
     ]
    }
   ],
   "source": [
    "labor_changes_2008 = labor_changes[['Sector', 'Industry', 'Measure', 'Units', '2008']]\n",
    "labor_changes_2008['2008'] = labor_changes_2008['2008'].astype(float)\n",
    "labor_changes_2008['2008'] = labor_changes_2008['2008'].astype(int)\n",
    "print(labor_changes_2008.dtypes)"
   ]
  },
  {
   "cell_type": "code",
   "execution_count": 43,
   "metadata": {},
   "outputs": [
    {
     "data": {
      "text/html": [
       "<div>\n",
       "<style scoped>\n",
       "    .dataframe tbody tr th:only-of-type {\n",
       "        vertical-align: middle;\n",
       "    }\n",
       "\n",
       "    .dataframe tbody tr th {\n",
       "        vertical-align: top;\n",
       "    }\n",
       "\n",
       "    .dataframe thead th {\n",
       "        text-align: right;\n",
       "    }\n",
       "</style>\n",
       "<table border=\"1\" class=\"dataframe\">\n",
       "  <thead>\n",
       "    <tr style=\"text-align: right;\">\n",
       "      <th></th>\n",
       "      <th>Sector</th>\n",
       "      <th>Industry</th>\n",
       "      <th>Measure</th>\n",
       "      <th>Units</th>\n",
       "      <th>2007</th>\n",
       "      <th>2008</th>\n",
       "      <th>2009</th>\n",
       "    </tr>\n",
       "  </thead>\n",
       "  <tbody>\n",
       "    <tr>\n",
       "      <th>9</th>\n",
       "      <td>Mining</td>\n",
       "      <td>Mining</td>\n",
       "      <td>Employment</td>\n",
       "      <td>% Change from previous year</td>\n",
       "      <td>8</td>\n",
       "      <td>6</td>\n",
       "      <td>-8</td>\n",
       "    </tr>\n",
       "    <tr>\n",
       "      <th>22</th>\n",
       "      <td>Mining</td>\n",
       "      <td>Mining</td>\n",
       "      <td>Employment</td>\n",
       "      <td>Thousands of jobs</td>\n",
       "      <td>684</td>\n",
       "      <td>726</td>\n",
       "      <td>661</td>\n",
       "    </tr>\n",
       "    <tr>\n",
       "      <th>32</th>\n",
       "      <td>Mining</td>\n",
       "      <td>Oil and gas extraction</td>\n",
       "      <td>Employment</td>\n",
       "      <td>% Change from previous year</td>\n",
       "      <td>7</td>\n",
       "      <td>8</td>\n",
       "      <td>0</td>\n",
       "    </tr>\n",
       "    <tr>\n",
       "      <th>45</th>\n",
       "      <td>Mining</td>\n",
       "      <td>Oil and gas extraction</td>\n",
       "      <td>Employment</td>\n",
       "      <td>Thousands of jobs</td>\n",
       "      <td>148</td>\n",
       "      <td>161</td>\n",
       "      <td>161</td>\n",
       "    </tr>\n",
       "    <tr>\n",
       "      <th>55</th>\n",
       "      <td>Mining</td>\n",
       "      <td>Mining, except oil and gas</td>\n",
       "      <td>Employment</td>\n",
       "      <td>% Change from previous year</td>\n",
       "      <td>3</td>\n",
       "      <td>0</td>\n",
       "      <td>-7</td>\n",
       "    </tr>\n",
       "  </tbody>\n",
       "</table>\n",
       "</div>"
      ],
      "text/plain": [
       "    Sector                    Industry     Measure  \\\n",
       "9   Mining                      Mining  Employment   \n",
       "22  Mining                      Mining  Employment   \n",
       "32  Mining      Oil and gas extraction  Employment   \n",
       "45  Mining      Oil and gas extraction  Employment   \n",
       "55  Mining  Mining, except oil and gas  Employment   \n",
       "\n",
       "                          Units  2007  2008  2009  \n",
       "9   % Change from previous year     8     6    -8  \n",
       "22            Thousands of jobs   684   726   661  \n",
       "32  % Change from previous year     7     8     0  \n",
       "45            Thousands of jobs   148   161   161  \n",
       "55  % Change from previous year     3     0    -7  "
      ]
     },
     "execution_count": 43,
     "metadata": {},
     "output_type": "execute_result"
    }
   ],
   "source": [
    "labor_changes_3yrs = labor_changes.copy()\n",
    "labor_changes_3yrs['2007'] = labor_changes_3yrs['2007'].astype(float)\n",
    "labor_changes_3yrs['2008'] = labor_changes_3yrs['2008'].astype(float)                  \n",
    "labor_changes_3yrs['2009'] = labor_changes_3yrs['2009'].astype(float)                   \n",
    "labor_changes_3yrs['2007'] = labor_changes_3yrs['2007'].astype(int)\n",
    "labor_changes_3yrs['2008'] = labor_changes_3yrs['2008'].astype(int)                  \n",
    "labor_changes_3yrs['2009'] = labor_changes_3yrs['2009'].astype(int)                   \n",
    "labor_changes_3yrs.head()"
   ]
  },
  {
   "cell_type": "code",
   "execution_count": 48,
   "metadata": {},
   "outputs": [
    {
     "ename": "SyntaxError",
     "evalue": "invalid syntax (<ipython-input-48-76d2374f9966>, line 1)",
     "output_type": "error",
     "traceback": [
      "\u001b[0;36m  File \u001b[0;32m\"<ipython-input-48-76d2374f9966>\"\u001b[0;36m, line \u001b[0;32m1\u001b[0m\n\u001b[0;31m    3yrs_percent = labor_changes_3yrs[(labor_changes_3yrs['Units'].isin(['% Change from previous year', 'Thousands of jobs']))]\u001b[0m\n\u001b[0m     ^\u001b[0m\n\u001b[0;31mSyntaxError\u001b[0m\u001b[0;31m:\u001b[0m invalid syntax\n"
     ]
    }
   ],
   "source": [
    "3yrs_percent = labor_changes_3yrs[(labor_changes_3yrs['Units'].isin(['% Change from previous year', 'Thousands of jobs']))]\n",
    "3yrs_job_nums = labor_changes_3yrs[(labor_changes_3yrs['Units'].isin(['% Change from previous year', 'Thousands of jobs']))]\n",
    "#labor_changes_3yrs[((labor_changes_3yrs['Units'].isin(['% Change from previous year', 'Thousands of jobs']))]\n"
   ]
  },
  {
   "cell_type": "code",
   "execution_count": null,
   "metadata": {},
   "outputs": [],
   "source": [
    "axes = labor_changes_3yrs['Sector'.plot.line(\n",
    "    subplots=True, color={\"pig\": \"pink\", \"horse\": \"#742802\"}\n",
    ")"
   ]
  },
  {
   "cell_type": "code",
   "execution_count": 15,
   "metadata": {},
   "outputs": [
    {
     "data": {
      "text/plain": [
       "Manufacturing                                                               597\n",
       "Retail Trade                                                                348\n",
       "Transportation and Warehousing                                               75\n",
       "Wholesale Trade                                                              75\n",
       "Information                                                                  66\n",
       "Accommodation and Food Services                                              42\n",
       "Mining                                                                       42\n",
       "Professional, Scientific, and Technical Services                             42\n",
       "Other Services (except Public Administration)                                42\n",
       "Arts, Entertainment, and Recreation                                          30\n",
       "Utilities                                                                    21\n",
       "Administrative and Support and Waste Management and Remediation Services     18\n",
       "Health Care and Social Assistance                                            15\n",
       "Real Estate and Rental and Leasing                                           12\n",
       "Finance and Insurance                                                         6\n",
       "Name: Sector, dtype: int64"
      ]
     },
     "execution_count": 15,
     "metadata": {},
     "output_type": "execute_result"
    }
   ],
   "source": [
    "labor_changes_2008.Sector.value_counts()"
   ]
  },
  {
   "cell_type": "code",
   "execution_count": 16,
   "metadata": {},
   "outputs": [
    {
     "data": {
      "text/plain": [
       "Postal service                                                 12\n",
       "Seafood product preparation and packaging                       9\n",
       "Tobacco manufacturing                                           9\n",
       "Furniture stores                                                9\n",
       "Florists                                                        9\n",
       "                                                               ..\n",
       "Miscellaneous store retailers                                   3\n",
       "Photofinishing                                                  3\n",
       "Miscellaneous manufacturing                                     3\n",
       "Employment placement agencies and executive search services     3\n",
       "Drycleaning and laundry services                                3\n",
       "Name: Industry, Length: 320, dtype: int64"
      ]
     },
     "execution_count": 16,
     "metadata": {},
     "output_type": "execute_result"
    }
   ],
   "source": [
    "labor_changes_2008.Industry.value_counts()"
   ]
  },
  {
   "cell_type": "code",
   "execution_count": 17,
   "metadata": {},
   "outputs": [
    {
     "data": {
      "text/plain": [
       "Sector       15\n",
       "NAICS       477\n",
       "Industry    320\n",
       "Measure       1\n",
       "Units         3\n",
       "2008        297\n",
       "dtype: int64"
      ]
     },
     "execution_count": 17,
     "metadata": {},
     "output_type": "execute_result"
    }
   ],
   "source": [
    "labor_changes_2008.nunique()\n"
   ]
  },
  {
   "cell_type": "code",
   "execution_count": 18,
   "metadata": {},
   "outputs": [
    {
     "name": "stdout",
     "output_type": "stream",
     "text": [
      "Sector      object\n",
      "Industry    object\n",
      "Measure     object\n",
      "Units       object\n",
      "2008         int64\n",
      "dtype: object\n"
     ]
    }
   ],
   "source": [
    "Industries_employment_percent = labor_changes_2008[['Sector', 'Industry', 'Measure', 'Units', '2008']]\n",
    "ind_empl_percent = Industries_employment_percent[(Industries_employment_percent['Measure'].isin(['Employment']))& (Industries_employment_percent['Units'].isin(['% Change from previous year']))]\n",
    "#ind_empl_percent.head()\n",
    "print(ind_empl_percent.dtypes)"
   ]
  },
  {
   "cell_type": "code",
   "execution_count": 19,
   "metadata": {},
   "outputs": [],
   "source": [
    "emp_percent_sorted = ind_empl_percent.groupby('Sector')['2008'].sum().sort_values(ascending=True)"
   ]
  },
  {
   "cell_type": "code",
   "execution_count": 20,
   "metadata": {},
   "outputs": [],
   "source": [
    "import matplotlib.pyplot as plt\n",
    "import pandas as pd\n",
    "from matplotlib.ticker import ScalarFormatter;"
   ]
  },
  {
   "cell_type": "code",
   "execution_count": 21,
   "metadata": {},
   "outputs": [
    {
     "data": {
      "image/png": "[encoded data removed]",
      "text/plain": [
       "<Figure size 432x288 with 1 Axes>"
      ]
     },
     "metadata": {
      "needs_background": "light"
     },
     "output_type": "display_data"
    }
   ],
   "source": [
    "emp_percent_sorted.plot(kind='barh');"
   ]
  },
  {
   "cell_type": "code",
   "execution_count": 22,
   "metadata": {},
   "outputs": [
    {
     "ename": "SyntaxError",
     "evalue": "invalid syntax (<ipython-input-22-3f8e88afb3fc>, line 13)",
     "output_type": "error",
     "traceback": [
      "\u001b[0;36m  File \u001b[0;32m\"<ipython-input-22-3f8e88afb3fc>\"\u001b[0;36m, line \u001b[0;32m13\u001b[0m\n\u001b[0;31m    .xaxis.set_major_formatter.FuncFormatter(lambda x, pos: f'{x * 1e2:f}')\u001b[0m\n\u001b[0m    ^\u001b[0m\n\u001b[0;31mSyntaxError\u001b[0m\u001b[0;31m:\u001b[0m invalid syntax\n"
     ]
    }
   ],
   "source": [
    "#top_5_genres_profit = new_df.groupby('genre_ids')['profit'].sum().sort_values(ascending=False).nlargest(5)\n",
    "import matplotlib.pyplot as plt\n",
    "import pandas as pd\n",
    "from matplotlib.ticker import ScalarFormatter\n",
    "fig, ax = plt.subplots(figsize=(25,25))\n",
    "emp_percent_sorted.plot(kind='barh', figsize=(10,8), color=\"teal\")\n",
    "plt.title('Employment Changes 2008', fontsize=16)\n",
    "plt.xlabel('Percent Change From Previous Year', fontsize=14)\n",
    "plt.ylabel('Sector', fontsize=14)\n",
    "\n",
    "from matplotlib.ticker import FuncFormatter\n",
    "\n",
    ".xaxis.set_major_formatter.FuncFormatter(lambda x, pos: f'{x * 1e2:f}')"
   ]
  },
  {
   "cell_type": "code",
   "execution_count": null,
   "metadata": {},
   "outputs": [],
   "source": [
    "Industries_employment_num_jobs = labor_changes_c[['Sector', 'Industry', 'Measure', 'Units', '2008']]\n",
    "ind_empl_num_jobs = Industries_employment_percent[(Industries_employment_percent['Measure'].isin(['Employment']))& (Industries_employment_percent['Units'].isin(['Thousands of jobs']))]\n",
    "ind_empl_num_jobs.head()"
   ]
  },
  {
   "cell_type": "code",
   "execution_count": null,
   "metadata": {},
   "outputs": [],
   "source": []
  },
  {
   "cell_type": "code",
   "execution_count": null,
   "metadata": {},
   "outputs": [],
   "source": []
  },
  {
   "cell_type": "code",
   "execution_count": null,
   "metadata": {},
   "outputs": [],
   "source": [
    "num_jobs_sorted = ind_empl_num_jobs.groupby('Sector')['2008'].sum().sort_values(ascending=True)"
   ]
  },
  {
   "cell_type": "code",
   "execution_count": null,
   "metadata": {},
   "outputs": [],
   "source": [
    "num_jobs_sorted.plot(kind='barh');"
   ]
  },
  {
   "cell_type": "code",
   "execution_count": null,
   "metadata": {},
   "outputs": [],
   "source": []
  }
 ],
 "metadata": {
  "kernelspec": {
   "display_name": "Python (learn-env)",
   "language": "python",
   "name": "learn-env"
  },
  "language_info": {
   "codemirror_mode": {
    "name": "ipython",
    "version": 3
   },
   "file_extension": ".py",
   "mimetype": "text/x-python",
   "name": "python",
   "nbconvert_exporter": "python",
   "pygments_lexer": "ipython3",
   "version": "3.8.5"
  }
 },
 "nbformat": 4,
 "nbformat_minor": 4
}
